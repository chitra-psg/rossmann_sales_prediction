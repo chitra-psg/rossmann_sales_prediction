{
  "nbformat": 4,
  "nbformat_minor": 0,
  "metadata": {
    "colab": {
      "provenance": [],
      "authorship_tag": "ABX9TyOr0G8e+T22dtzwsFB0kPAC",
      "include_colab_link": true
    },
    "kernelspec": {
      "name": "python3",
      "display_name": "Python 3"
    },
    "language_info": {
      "name": "python"
    }
  },
  "cells": [
    {
      "cell_type": "markdown",
      "metadata": {
        "id": "view-in-github",
        "colab_type": "text"
      },
      "source": [
        "<a href=\"https://colab.research.google.com/github/chitra-psg/rossmann_sales_prediction/blob/main/Rossman_Sales_Prediction_Final.ipynb\" target=\"_parent\"><img src=\"https://colab.research.google.com/assets/colab-badge.svg\" alt=\"Open In Colab\"/></a>"
      ]
    },
    {
      "cell_type": "markdown",
      "source": [
        "##**Rossman Sales Forecasting**"
      ],
      "metadata": {
        "id": "d11hxZVtfmAL"
      }
    },
    {
      "cell_type": "markdown",
      "source": [
        "***Problem*** : Rossmann is a European drug distributor which operates over 3,000 drug stores across seven European countries. Since a lot of drugs come with a short shelf life, that is, they do not have a long expiry date, it becomes imperative for Rossmann to accurately forecast sales at their individual stores. Currently, the forecasting is taken care of by the store managers who are tasked with forecasting daily sales for the next six weeks.As expected, store sales are influenced by many factors, including promotional campaigns, competition, state holidays, seasonality, and locality. With thousands of individual managers predicting sales based on their unique circumstances and intuitions, the accuracy of the forecasts is quite varied.\n",
        "\n",
        "*Build a forecasting model to forecast the daily sales for the next six weeks*"
      ],
      "metadata": {
        "id": "1KNsu2TJfC9O"
      }
    },
    {
      "cell_type": "code",
      "execution_count": 84,
      "metadata": {
        "id": "IGZx1sgVBQPh"
      },
      "outputs": [],
      "source": [
        "#importing important libraries\n",
        "import numpy as np\n",
        "import pandas as pd\n",
        "import matplotlib.pyplot as plt\n",
        "import seaborn as sns\n",
        "import statsmodels.api as sm\n",
        "\n",
        "import warnings\n",
        "warnings.filterwarnings('ignore')"
      ]
    },
    {
      "cell_type": "markdown",
      "source": [
        "### **Data Processing**"
      ],
      "metadata": {
        "id": "63bV_1HDWQLK"
      }
    },
    {
      "cell_type": "markdown",
      "source": [
        "#### **Source Data**"
      ],
      "metadata": {
        "id": "tbIktXsjWbWQ"
      }
    },
    {
      "cell_type": "code",
      "source": [
        "store = pd.read_csv('store.csv')\n",
        "store.head()"
      ],
      "metadata": {
        "colab": {
          "base_uri": "https://localhost:8080/",
          "height": 206
        },
        "id": "i7t5SSbAVglg",
        "outputId": "64e2808d-a77d-405e-8b24-1e4fc3851ae0"
      },
      "execution_count": 85,
      "outputs": [
        {
          "output_type": "execute_result",
          "data": {
            "text/plain": [
              "   Store StoreType Assortment  CompetitionDistance  CompetitionOpenSinceMonth  \\\n",
              "0      1         c          a               1270.0                        9.0   \n",
              "1      2         a          a                570.0                       11.0   \n",
              "2      3         a          a              14130.0                       12.0   \n",
              "3      4         c          c                620.0                        9.0   \n",
              "4      5         a          a              29910.0                        4.0   \n",
              "\n",
              "   CompetitionOpenSinceYear  Promo2  Promo2SinceWeek  Promo2SinceYear  \\\n",
              "0                    2008.0       0              NaN              NaN   \n",
              "1                    2007.0       1             13.0           2010.0   \n",
              "2                    2006.0       1             14.0           2011.0   \n",
              "3                    2009.0       0              NaN              NaN   \n",
              "4                    2015.0       0              NaN              NaN   \n",
              "\n",
              "     PromoInterval  \n",
              "0              NaN  \n",
              "1  Jan,Apr,Jul,Oct  \n",
              "2  Jan,Apr,Jul,Oct  \n",
              "3              NaN  \n",
              "4              NaN  "
            ],
            "text/html": [
              "\n",
              "  <div id=\"df-a1459363-f728-444f-9412-14bb2cc3337b\" class=\"colab-df-container\">\n",
              "    <div>\n",
              "<style scoped>\n",
              "    .dataframe tbody tr th:only-of-type {\n",
              "        vertical-align: middle;\n",
              "    }\n",
              "\n",
              "    .dataframe tbody tr th {\n",
              "        vertical-align: top;\n",
              "    }\n",
              "\n",
              "    .dataframe thead th {\n",
              "        text-align: right;\n",
              "    }\n",
              "</style>\n",
              "<table border=\"1\" class=\"dataframe\">\n",
              "  <thead>\n",
              "    <tr style=\"text-align: right;\">\n",
              "      <th></th>\n",
              "      <th>Store</th>\n",
              "      <th>StoreType</th>\n",
              "      <th>Assortment</th>\n",
              "      <th>CompetitionDistance</th>\n",
              "      <th>CompetitionOpenSinceMonth</th>\n",
              "      <th>CompetitionOpenSinceYear</th>\n",
              "      <th>Promo2</th>\n",
              "      <th>Promo2SinceWeek</th>\n",
              "      <th>Promo2SinceYear</th>\n",
              "      <th>PromoInterval</th>\n",
              "    </tr>\n",
              "  </thead>\n",
              "  <tbody>\n",
              "    <tr>\n",
              "      <th>0</th>\n",
              "      <td>1</td>\n",
              "      <td>c</td>\n",
              "      <td>a</td>\n",
              "      <td>1270.0</td>\n",
              "      <td>9.0</td>\n",
              "      <td>2008.0</td>\n",
              "      <td>0</td>\n",
              "      <td>NaN</td>\n",
              "      <td>NaN</td>\n",
              "      <td>NaN</td>\n",
              "    </tr>\n",
              "    <tr>\n",
              "      <th>1</th>\n",
              "      <td>2</td>\n",
              "      <td>a</td>\n",
              "      <td>a</td>\n",
              "      <td>570.0</td>\n",
              "      <td>11.0</td>\n",
              "      <td>2007.0</td>\n",
              "      <td>1</td>\n",
              "      <td>13.0</td>\n",
              "      <td>2010.0</td>\n",
              "      <td>Jan,Apr,Jul,Oct</td>\n",
              "    </tr>\n",
              "    <tr>\n",
              "      <th>2</th>\n",
              "      <td>3</td>\n",
              "      <td>a</td>\n",
              "      <td>a</td>\n",
              "      <td>14130.0</td>\n",
              "      <td>12.0</td>\n",
              "      <td>2006.0</td>\n",
              "      <td>1</td>\n",
              "      <td>14.0</td>\n",
              "      <td>2011.0</td>\n",
              "      <td>Jan,Apr,Jul,Oct</td>\n",
              "    </tr>\n",
              "    <tr>\n",
              "      <th>3</th>\n",
              "      <td>4</td>\n",
              "      <td>c</td>\n",
              "      <td>c</td>\n",
              "      <td>620.0</td>\n",
              "      <td>9.0</td>\n",
              "      <td>2009.0</td>\n",
              "      <td>0</td>\n",
              "      <td>NaN</td>\n",
              "      <td>NaN</td>\n",
              "      <td>NaN</td>\n",
              "    </tr>\n",
              "    <tr>\n",
              "      <th>4</th>\n",
              "      <td>5</td>\n",
              "      <td>a</td>\n",
              "      <td>a</td>\n",
              "      <td>29910.0</td>\n",
              "      <td>4.0</td>\n",
              "      <td>2015.0</td>\n",
              "      <td>0</td>\n",
              "      <td>NaN</td>\n",
              "      <td>NaN</td>\n",
              "      <td>NaN</td>\n",
              "    </tr>\n",
              "  </tbody>\n",
              "</table>\n",
              "</div>\n",
              "    <div class=\"colab-df-buttons\">\n",
              "\n",
              "  <div class=\"colab-df-container\">\n",
              "    <button class=\"colab-df-convert\" onclick=\"convertToInteractive('df-a1459363-f728-444f-9412-14bb2cc3337b')\"\n",
              "            title=\"Convert this dataframe to an interactive table.\"\n",
              "            style=\"display:none;\">\n",
              "\n",
              "  <svg xmlns=\"http://www.w3.org/2000/svg\" height=\"24px\" viewBox=\"0 -960 960 960\">\n",
              "    <path d=\"M120-120v-720h720v720H120Zm60-500h600v-160H180v160Zm220 220h160v-160H400v160Zm0 220h160v-160H400v160ZM180-400h160v-160H180v160Zm440 0h160v-160H620v160ZM180-180h160v-160H180v160Zm440 0h160v-160H620v160Z\"/>\n",
              "  </svg>\n",
              "    </button>\n",
              "\n",
              "  <style>\n",
              "    .colab-df-container {\n",
              "      display:flex;\n",
              "      gap: 12px;\n",
              "    }\n",
              "\n",
              "    .colab-df-convert {\n",
              "      background-color: #E8F0FE;\n",
              "      border: none;\n",
              "      border-radius: 50%;\n",
              "      cursor: pointer;\n",
              "      display: none;\n",
              "      fill: #1967D2;\n",
              "      height: 32px;\n",
              "      padding: 0 0 0 0;\n",
              "      width: 32px;\n",
              "    }\n",
              "\n",
              "    .colab-df-convert:hover {\n",
              "      background-color: #E2EBFA;\n",
              "      box-shadow: 0px 1px 2px rgba(60, 64, 67, 0.3), 0px 1px 3px 1px rgba(60, 64, 67, 0.15);\n",
              "      fill: #174EA6;\n",
              "    }\n",
              "\n",
              "    .colab-df-buttons div {\n",
              "      margin-bottom: 4px;\n",
              "    }\n",
              "\n",
              "    [theme=dark] .colab-df-convert {\n",
              "      background-color: #3B4455;\n",
              "      fill: #D2E3FC;\n",
              "    }\n",
              "\n",
              "    [theme=dark] .colab-df-convert:hover {\n",
              "      background-color: #434B5C;\n",
              "      box-shadow: 0px 1px 3px 1px rgba(0, 0, 0, 0.15);\n",
              "      filter: drop-shadow(0px 1px 2px rgba(0, 0, 0, 0.3));\n",
              "      fill: #FFFFFF;\n",
              "    }\n",
              "  </style>\n",
              "\n",
              "    <script>\n",
              "      const buttonEl =\n",
              "        document.querySelector('#df-a1459363-f728-444f-9412-14bb2cc3337b button.colab-df-convert');\n",
              "      buttonEl.style.display =\n",
              "        google.colab.kernel.accessAllowed ? 'block' : 'none';\n",
              "\n",
              "      async function convertToInteractive(key) {\n",
              "        const element = document.querySelector('#df-a1459363-f728-444f-9412-14bb2cc3337b');\n",
              "        const dataTable =\n",
              "          await google.colab.kernel.invokeFunction('convertToInteractive',\n",
              "                                                    [key], {});\n",
              "        if (!dataTable) return;\n",
              "\n",
              "        const docLinkHtml = 'Like what you see? Visit the ' +\n",
              "          '<a target=\"_blank\" href=https://colab.research.google.com/notebooks/data_table.ipynb>data table notebook</a>'\n",
              "          + ' to learn more about interactive tables.';\n",
              "        element.innerHTML = '';\n",
              "        dataTable['output_type'] = 'display_data';\n",
              "        await google.colab.output.renderOutput(dataTable, element);\n",
              "        const docLink = document.createElement('div');\n",
              "        docLink.innerHTML = docLinkHtml;\n",
              "        element.appendChild(docLink);\n",
              "      }\n",
              "    </script>\n",
              "  </div>\n",
              "\n",
              "\n",
              "<div id=\"df-b0bdb7ea-a5f1-45bd-9404-d13574ed9fe7\">\n",
              "  <button class=\"colab-df-quickchart\" onclick=\"quickchart('df-b0bdb7ea-a5f1-45bd-9404-d13574ed9fe7')\"\n",
              "            title=\"Suggest charts\"\n",
              "            style=\"display:none;\">\n",
              "\n",
              "<svg xmlns=\"http://www.w3.org/2000/svg\" height=\"24px\"viewBox=\"0 0 24 24\"\n",
              "     width=\"24px\">\n",
              "    <g>\n",
              "        <path d=\"M19 3H5c-1.1 0-2 .9-2 2v14c0 1.1.9 2 2 2h14c1.1 0 2-.9 2-2V5c0-1.1-.9-2-2-2zM9 17H7v-7h2v7zm4 0h-2V7h2v10zm4 0h-2v-4h2v4z\"/>\n",
              "    </g>\n",
              "</svg>\n",
              "  </button>\n",
              "\n",
              "<style>\n",
              "  .colab-df-quickchart {\n",
              "      --bg-color: #E8F0FE;\n",
              "      --fill-color: #1967D2;\n",
              "      --hover-bg-color: #E2EBFA;\n",
              "      --hover-fill-color: #174EA6;\n",
              "      --disabled-fill-color: #AAA;\n",
              "      --disabled-bg-color: #DDD;\n",
              "  }\n",
              "\n",
              "  [theme=dark] .colab-df-quickchart {\n",
              "      --bg-color: #3B4455;\n",
              "      --fill-color: #D2E3FC;\n",
              "      --hover-bg-color: #434B5C;\n",
              "      --hover-fill-color: #FFFFFF;\n",
              "      --disabled-bg-color: #3B4455;\n",
              "      --disabled-fill-color: #666;\n",
              "  }\n",
              "\n",
              "  .colab-df-quickchart {\n",
              "    background-color: var(--bg-color);\n",
              "    border: none;\n",
              "    border-radius: 50%;\n",
              "    cursor: pointer;\n",
              "    display: none;\n",
              "    fill: var(--fill-color);\n",
              "    height: 32px;\n",
              "    padding: 0;\n",
              "    width: 32px;\n",
              "  }\n",
              "\n",
              "  .colab-df-quickchart:hover {\n",
              "    background-color: var(--hover-bg-color);\n",
              "    box-shadow: 0 1px 2px rgba(60, 64, 67, 0.3), 0 1px 3px 1px rgba(60, 64, 67, 0.15);\n",
              "    fill: var(--button-hover-fill-color);\n",
              "  }\n",
              "\n",
              "  .colab-df-quickchart-complete:disabled,\n",
              "  .colab-df-quickchart-complete:disabled:hover {\n",
              "    background-color: var(--disabled-bg-color);\n",
              "    fill: var(--disabled-fill-color);\n",
              "    box-shadow: none;\n",
              "  }\n",
              "\n",
              "  .colab-df-spinner {\n",
              "    border: 2px solid var(--fill-color);\n",
              "    border-color: transparent;\n",
              "    border-bottom-color: var(--fill-color);\n",
              "    animation:\n",
              "      spin 1s steps(1) infinite;\n",
              "  }\n",
              "\n",
              "  @keyframes spin {\n",
              "    0% {\n",
              "      border-color: transparent;\n",
              "      border-bottom-color: var(--fill-color);\n",
              "      border-left-color: var(--fill-color);\n",
              "    }\n",
              "    20% {\n",
              "      border-color: transparent;\n",
              "      border-left-color: var(--fill-color);\n",
              "      border-top-color: var(--fill-color);\n",
              "    }\n",
              "    30% {\n",
              "      border-color: transparent;\n",
              "      border-left-color: var(--fill-color);\n",
              "      border-top-color: var(--fill-color);\n",
              "      border-right-color: var(--fill-color);\n",
              "    }\n",
              "    40% {\n",
              "      border-color: transparent;\n",
              "      border-right-color: var(--fill-color);\n",
              "      border-top-color: var(--fill-color);\n",
              "    }\n",
              "    60% {\n",
              "      border-color: transparent;\n",
              "      border-right-color: var(--fill-color);\n",
              "    }\n",
              "    80% {\n",
              "      border-color: transparent;\n",
              "      border-right-color: var(--fill-color);\n",
              "      border-bottom-color: var(--fill-color);\n",
              "    }\n",
              "    90% {\n",
              "      border-color: transparent;\n",
              "      border-bottom-color: var(--fill-color);\n",
              "    }\n",
              "  }\n",
              "</style>\n",
              "\n",
              "  <script>\n",
              "    async function quickchart(key) {\n",
              "      const quickchartButtonEl =\n",
              "        document.querySelector('#' + key + ' button');\n",
              "      quickchartButtonEl.disabled = true;  // To prevent multiple clicks.\n",
              "      quickchartButtonEl.classList.add('colab-df-spinner');\n",
              "      try {\n",
              "        const charts = await google.colab.kernel.invokeFunction(\n",
              "            'suggestCharts', [key], {});\n",
              "      } catch (error) {\n",
              "        console.error('Error during call to suggestCharts:', error);\n",
              "      }\n",
              "      quickchartButtonEl.classList.remove('colab-df-spinner');\n",
              "      quickchartButtonEl.classList.add('colab-df-quickchart-complete');\n",
              "    }\n",
              "    (() => {\n",
              "      let quickchartButtonEl =\n",
              "        document.querySelector('#df-b0bdb7ea-a5f1-45bd-9404-d13574ed9fe7 button');\n",
              "      quickchartButtonEl.style.display =\n",
              "        google.colab.kernel.accessAllowed ? 'block' : 'none';\n",
              "    })();\n",
              "  </script>\n",
              "</div>\n",
              "\n",
              "    </div>\n",
              "  </div>\n"
            ],
            "application/vnd.google.colaboratory.intrinsic+json": {
              "type": "dataframe",
              "variable_name": "store",
              "summary": "{\n  \"name\": \"store\",\n  \"rows\": 1115,\n  \"fields\": [\n    {\n      \"column\": \"Store\",\n      \"properties\": {\n        \"dtype\": \"number\",\n        \"std\": 322,\n        \"min\": 1,\n        \"max\": 1115,\n        \"num_unique_values\": 1115,\n        \"samples\": [\n          266,\n          102,\n          1046\n        ],\n        \"semantic_type\": \"\",\n        \"description\": \"\"\n      }\n    },\n    {\n      \"column\": \"StoreType\",\n      \"properties\": {\n        \"dtype\": \"category\",\n        \"num_unique_values\": 4,\n        \"samples\": [\n          \"a\",\n          \"b\",\n          \"c\"\n        ],\n        \"semantic_type\": \"\",\n        \"description\": \"\"\n      }\n    },\n    {\n      \"column\": \"Assortment\",\n      \"properties\": {\n        \"dtype\": \"category\",\n        \"num_unique_values\": 3,\n        \"samples\": [\n          \"a\",\n          \"c\",\n          \"b\"\n        ],\n        \"semantic_type\": \"\",\n        \"description\": \"\"\n      }\n    },\n    {\n      \"column\": \"CompetitionDistance\",\n      \"properties\": {\n        \"dtype\": \"number\",\n        \"std\": 7663.174720367944,\n        \"min\": 20.0,\n        \"max\": 75860.0,\n        \"num_unique_values\": 654,\n        \"samples\": [\n          810.0,\n          1870.0,\n          17650.0\n        ],\n        \"semantic_type\": \"\",\n        \"description\": \"\"\n      }\n    },\n    {\n      \"column\": \"CompetitionOpenSinceMonth\",\n      \"properties\": {\n        \"dtype\": \"number\",\n        \"std\": 3.2123477966147096,\n        \"min\": 1.0,\n        \"max\": 12.0,\n        \"num_unique_values\": 12,\n        \"samples\": [\n          2.0,\n          1.0,\n          9.0\n        ],\n        \"semantic_type\": \"\",\n        \"description\": \"\"\n      }\n    },\n    {\n      \"column\": \"CompetitionOpenSinceYear\",\n      \"properties\": {\n        \"dtype\": \"number\",\n        \"std\": 6.195982559329074,\n        \"min\": 1900.0,\n        \"max\": 2015.0,\n        \"num_unique_values\": 23,\n        \"samples\": [\n          2002.0,\n          2010.0,\n          2008.0\n        ],\n        \"semantic_type\": \"\",\n        \"description\": \"\"\n      }\n    },\n    {\n      \"column\": \"Promo2\",\n      \"properties\": {\n        \"dtype\": \"number\",\n        \"std\": 0,\n        \"min\": 0,\n        \"max\": 1,\n        \"num_unique_values\": 2,\n        \"samples\": [\n          1,\n          0\n        ],\n        \"semantic_type\": \"\",\n        \"description\": \"\"\n      }\n    },\n    {\n      \"column\": \"Promo2SinceWeek\",\n      \"properties\": {\n        \"dtype\": \"number\",\n        \"std\": 14.141983542922194,\n        \"min\": 1.0,\n        \"max\": 50.0,\n        \"num_unique_values\": 24,\n        \"samples\": [\n          6.0,\n          35.0\n        ],\n        \"semantic_type\": \"\",\n        \"description\": \"\"\n      }\n    },\n    {\n      \"column\": \"Promo2SinceYear\",\n      \"properties\": {\n        \"dtype\": \"number\",\n        \"std\": 1.6749350926066549,\n        \"min\": 2009.0,\n        \"max\": 2015.0,\n        \"num_unique_values\": 7,\n        \"samples\": [\n          2010.0,\n          2011.0\n        ],\n        \"semantic_type\": \"\",\n        \"description\": \"\"\n      }\n    },\n    {\n      \"column\": \"PromoInterval\",\n      \"properties\": {\n        \"dtype\": \"category\",\n        \"num_unique_values\": 3,\n        \"samples\": [\n          \"Jan,Apr,Jul,Oct\",\n          \"Feb,May,Aug,Nov\"\n        ],\n        \"semantic_type\": \"\",\n        \"description\": \"\"\n      }\n    }\n  ]\n}"
            }
          },
          "metadata": {},
          "execution_count": 85
        }
      ]
    },
    {
      "cell_type": "code",
      "source": [
        "sales = pd.read_csv('train.csv')\n",
        "sales.head()"
      ],
      "metadata": {
        "colab": {
          "base_uri": "https://localhost:8080/",
          "height": 206
        },
        "id": "z2yrtO4h63p8",
        "outputId": "996400c9-b918-4cea-fe1f-5bc1c0bf7e89"
      },
      "execution_count": 86,
      "outputs": [
        {
          "output_type": "execute_result",
          "data": {
            "text/plain": [
              "   Store  DayOfWeek        Date    Sales  Customers  Open  Promo StateHoliday  \\\n",
              "0      1          5  2015-07-31   5263.0      555.0   1.0    1.0            0   \n",
              "1      2          5  2015-07-31   6064.0      625.0   1.0    1.0            0   \n",
              "2      3          5  2015-07-31   8314.0      821.0   1.0    1.0            0   \n",
              "3      4          5  2015-07-31  13995.0     1498.0   1.0    1.0            0   \n",
              "4      5          5  2015-07-31   4822.0      559.0   1.0    1.0            0   \n",
              "\n",
              "   SchoolHoliday  \n",
              "0            1.0  \n",
              "1            1.0  \n",
              "2            1.0  \n",
              "3            1.0  \n",
              "4            1.0  "
            ],
            "text/html": [
              "\n",
              "  <div id=\"df-d255135c-cb45-4808-a9d2-2b36cbe6875f\" class=\"colab-df-container\">\n",
              "    <div>\n",
              "<style scoped>\n",
              "    .dataframe tbody tr th:only-of-type {\n",
              "        vertical-align: middle;\n",
              "    }\n",
              "\n",
              "    .dataframe tbody tr th {\n",
              "        vertical-align: top;\n",
              "    }\n",
              "\n",
              "    .dataframe thead th {\n",
              "        text-align: right;\n",
              "    }\n",
              "</style>\n",
              "<table border=\"1\" class=\"dataframe\">\n",
              "  <thead>\n",
              "    <tr style=\"text-align: right;\">\n",
              "      <th></th>\n",
              "      <th>Store</th>\n",
              "      <th>DayOfWeek</th>\n",
              "      <th>Date</th>\n",
              "      <th>Sales</th>\n",
              "      <th>Customers</th>\n",
              "      <th>Open</th>\n",
              "      <th>Promo</th>\n",
              "      <th>StateHoliday</th>\n",
              "      <th>SchoolHoliday</th>\n",
              "    </tr>\n",
              "  </thead>\n",
              "  <tbody>\n",
              "    <tr>\n",
              "      <th>0</th>\n",
              "      <td>1</td>\n",
              "      <td>5</td>\n",
              "      <td>2015-07-31</td>\n",
              "      <td>5263.0</td>\n",
              "      <td>555.0</td>\n",
              "      <td>1.0</td>\n",
              "      <td>1.0</td>\n",
              "      <td>0</td>\n",
              "      <td>1.0</td>\n",
              "    </tr>\n",
              "    <tr>\n",
              "      <th>1</th>\n",
              "      <td>2</td>\n",
              "      <td>5</td>\n",
              "      <td>2015-07-31</td>\n",
              "      <td>6064.0</td>\n",
              "      <td>625.0</td>\n",
              "      <td>1.0</td>\n",
              "      <td>1.0</td>\n",
              "      <td>0</td>\n",
              "      <td>1.0</td>\n",
              "    </tr>\n",
              "    <tr>\n",
              "      <th>2</th>\n",
              "      <td>3</td>\n",
              "      <td>5</td>\n",
              "      <td>2015-07-31</td>\n",
              "      <td>8314.0</td>\n",
              "      <td>821.0</td>\n",
              "      <td>1.0</td>\n",
              "      <td>1.0</td>\n",
              "      <td>0</td>\n",
              "      <td>1.0</td>\n",
              "    </tr>\n",
              "    <tr>\n",
              "      <th>3</th>\n",
              "      <td>4</td>\n",
              "      <td>5</td>\n",
              "      <td>2015-07-31</td>\n",
              "      <td>13995.0</td>\n",
              "      <td>1498.0</td>\n",
              "      <td>1.0</td>\n",
              "      <td>1.0</td>\n",
              "      <td>0</td>\n",
              "      <td>1.0</td>\n",
              "    </tr>\n",
              "    <tr>\n",
              "      <th>4</th>\n",
              "      <td>5</td>\n",
              "      <td>5</td>\n",
              "      <td>2015-07-31</td>\n",
              "      <td>4822.0</td>\n",
              "      <td>559.0</td>\n",
              "      <td>1.0</td>\n",
              "      <td>1.0</td>\n",
              "      <td>0</td>\n",
              "      <td>1.0</td>\n",
              "    </tr>\n",
              "  </tbody>\n",
              "</table>\n",
              "</div>\n",
              "    <div class=\"colab-df-buttons\">\n",
              "\n",
              "  <div class=\"colab-df-container\">\n",
              "    <button class=\"colab-df-convert\" onclick=\"convertToInteractive('df-d255135c-cb45-4808-a9d2-2b36cbe6875f')\"\n",
              "            title=\"Convert this dataframe to an interactive table.\"\n",
              "            style=\"display:none;\">\n",
              "\n",
              "  <svg xmlns=\"http://www.w3.org/2000/svg\" height=\"24px\" viewBox=\"0 -960 960 960\">\n",
              "    <path d=\"M120-120v-720h720v720H120Zm60-500h600v-160H180v160Zm220 220h160v-160H400v160Zm0 220h160v-160H400v160ZM180-400h160v-160H180v160Zm440 0h160v-160H620v160ZM180-180h160v-160H180v160Zm440 0h160v-160H620v160Z\"/>\n",
              "  </svg>\n",
              "    </button>\n",
              "\n",
              "  <style>\n",
              "    .colab-df-container {\n",
              "      display:flex;\n",
              "      gap: 12px;\n",
              "    }\n",
              "\n",
              "    .colab-df-convert {\n",
              "      background-color: #E8F0FE;\n",
              "      border: none;\n",
              "      border-radius: 50%;\n",
              "      cursor: pointer;\n",
              "      display: none;\n",
              "      fill: #1967D2;\n",
              "      height: 32px;\n",
              "      padding: 0 0 0 0;\n",
              "      width: 32px;\n",
              "    }\n",
              "\n",
              "    .colab-df-convert:hover {\n",
              "      background-color: #E2EBFA;\n",
              "      box-shadow: 0px 1px 2px rgba(60, 64, 67, 0.3), 0px 1px 3px 1px rgba(60, 64, 67, 0.15);\n",
              "      fill: #174EA6;\n",
              "    }\n",
              "\n",
              "    .colab-df-buttons div {\n",
              "      margin-bottom: 4px;\n",
              "    }\n",
              "\n",
              "    [theme=dark] .colab-df-convert {\n",
              "      background-color: #3B4455;\n",
              "      fill: #D2E3FC;\n",
              "    }\n",
              "\n",
              "    [theme=dark] .colab-df-convert:hover {\n",
              "      background-color: #434B5C;\n",
              "      box-shadow: 0px 1px 3px 1px rgba(0, 0, 0, 0.15);\n",
              "      filter: drop-shadow(0px 1px 2px rgba(0, 0, 0, 0.3));\n",
              "      fill: #FFFFFF;\n",
              "    }\n",
              "  </style>\n",
              "\n",
              "    <script>\n",
              "      const buttonEl =\n",
              "        document.querySelector('#df-d255135c-cb45-4808-a9d2-2b36cbe6875f button.colab-df-convert');\n",
              "      buttonEl.style.display =\n",
              "        google.colab.kernel.accessAllowed ? 'block' : 'none';\n",
              "\n",
              "      async function convertToInteractive(key) {\n",
              "        const element = document.querySelector('#df-d255135c-cb45-4808-a9d2-2b36cbe6875f');\n",
              "        const dataTable =\n",
              "          await google.colab.kernel.invokeFunction('convertToInteractive',\n",
              "                                                    [key], {});\n",
              "        if (!dataTable) return;\n",
              "\n",
              "        const docLinkHtml = 'Like what you see? Visit the ' +\n",
              "          '<a target=\"_blank\" href=https://colab.research.google.com/notebooks/data_table.ipynb>data table notebook</a>'\n",
              "          + ' to learn more about interactive tables.';\n",
              "        element.innerHTML = '';\n",
              "        dataTable['output_type'] = 'display_data';\n",
              "        await google.colab.output.renderOutput(dataTable, element);\n",
              "        const docLink = document.createElement('div');\n",
              "        docLink.innerHTML = docLinkHtml;\n",
              "        element.appendChild(docLink);\n",
              "      }\n",
              "    </script>\n",
              "  </div>\n",
              "\n",
              "\n",
              "<div id=\"df-a72f7986-b7aa-4edb-a08a-ac21541494f6\">\n",
              "  <button class=\"colab-df-quickchart\" onclick=\"quickchart('df-a72f7986-b7aa-4edb-a08a-ac21541494f6')\"\n",
              "            title=\"Suggest charts\"\n",
              "            style=\"display:none;\">\n",
              "\n",
              "<svg xmlns=\"http://www.w3.org/2000/svg\" height=\"24px\"viewBox=\"0 0 24 24\"\n",
              "     width=\"24px\">\n",
              "    <g>\n",
              "        <path d=\"M19 3H5c-1.1 0-2 .9-2 2v14c0 1.1.9 2 2 2h14c1.1 0 2-.9 2-2V5c0-1.1-.9-2-2-2zM9 17H7v-7h2v7zm4 0h-2V7h2v10zm4 0h-2v-4h2v4z\"/>\n",
              "    </g>\n",
              "</svg>\n",
              "  </button>\n",
              "\n",
              "<style>\n",
              "  .colab-df-quickchart {\n",
              "      --bg-color: #E8F0FE;\n",
              "      --fill-color: #1967D2;\n",
              "      --hover-bg-color: #E2EBFA;\n",
              "      --hover-fill-color: #174EA6;\n",
              "      --disabled-fill-color: #AAA;\n",
              "      --disabled-bg-color: #DDD;\n",
              "  }\n",
              "\n",
              "  [theme=dark] .colab-df-quickchart {\n",
              "      --bg-color: #3B4455;\n",
              "      --fill-color: #D2E3FC;\n",
              "      --hover-bg-color: #434B5C;\n",
              "      --hover-fill-color: #FFFFFF;\n",
              "      --disabled-bg-color: #3B4455;\n",
              "      --disabled-fill-color: #666;\n",
              "  }\n",
              "\n",
              "  .colab-df-quickchart {\n",
              "    background-color: var(--bg-color);\n",
              "    border: none;\n",
              "    border-radius: 50%;\n",
              "    cursor: pointer;\n",
              "    display: none;\n",
              "    fill: var(--fill-color);\n",
              "    height: 32px;\n",
              "    padding: 0;\n",
              "    width: 32px;\n",
              "  }\n",
              "\n",
              "  .colab-df-quickchart:hover {\n",
              "    background-color: var(--hover-bg-color);\n",
              "    box-shadow: 0 1px 2px rgba(60, 64, 67, 0.3), 0 1px 3px 1px rgba(60, 64, 67, 0.15);\n",
              "    fill: var(--button-hover-fill-color);\n",
              "  }\n",
              "\n",
              "  .colab-df-quickchart-complete:disabled,\n",
              "  .colab-df-quickchart-complete:disabled:hover {\n",
              "    background-color: var(--disabled-bg-color);\n",
              "    fill: var(--disabled-fill-color);\n",
              "    box-shadow: none;\n",
              "  }\n",
              "\n",
              "  .colab-df-spinner {\n",
              "    border: 2px solid var(--fill-color);\n",
              "    border-color: transparent;\n",
              "    border-bottom-color: var(--fill-color);\n",
              "    animation:\n",
              "      spin 1s steps(1) infinite;\n",
              "  }\n",
              "\n",
              "  @keyframes spin {\n",
              "    0% {\n",
              "      border-color: transparent;\n",
              "      border-bottom-color: var(--fill-color);\n",
              "      border-left-color: var(--fill-color);\n",
              "    }\n",
              "    20% {\n",
              "      border-color: transparent;\n",
              "      border-left-color: var(--fill-color);\n",
              "      border-top-color: var(--fill-color);\n",
              "    }\n",
              "    30% {\n",
              "      border-color: transparent;\n",
              "      border-left-color: var(--fill-color);\n",
              "      border-top-color: var(--fill-color);\n",
              "      border-right-color: var(--fill-color);\n",
              "    }\n",
              "    40% {\n",
              "      border-color: transparent;\n",
              "      border-right-color: var(--fill-color);\n",
              "      border-top-color: var(--fill-color);\n",
              "    }\n",
              "    60% {\n",
              "      border-color: transparent;\n",
              "      border-right-color: var(--fill-color);\n",
              "    }\n",
              "    80% {\n",
              "      border-color: transparent;\n",
              "      border-right-color: var(--fill-color);\n",
              "      border-bottom-color: var(--fill-color);\n",
              "    }\n",
              "    90% {\n",
              "      border-color: transparent;\n",
              "      border-bottom-color: var(--fill-color);\n",
              "    }\n",
              "  }\n",
              "</style>\n",
              "\n",
              "  <script>\n",
              "    async function quickchart(key) {\n",
              "      const quickchartButtonEl =\n",
              "        document.querySelector('#' + key + ' button');\n",
              "      quickchartButtonEl.disabled = true;  // To prevent multiple clicks.\n",
              "      quickchartButtonEl.classList.add('colab-df-spinner');\n",
              "      try {\n",
              "        const charts = await google.colab.kernel.invokeFunction(\n",
              "            'suggestCharts', [key], {});\n",
              "      } catch (error) {\n",
              "        console.error('Error during call to suggestCharts:', error);\n",
              "      }\n",
              "      quickchartButtonEl.classList.remove('colab-df-spinner');\n",
              "      quickchartButtonEl.classList.add('colab-df-quickchart-complete');\n",
              "    }\n",
              "    (() => {\n",
              "      let quickchartButtonEl =\n",
              "        document.querySelector('#df-a72f7986-b7aa-4edb-a08a-ac21541494f6 button');\n",
              "      quickchartButtonEl.style.display =\n",
              "        google.colab.kernel.accessAllowed ? 'block' : 'none';\n",
              "    })();\n",
              "  </script>\n",
              "</div>\n",
              "\n",
              "    </div>\n",
              "  </div>\n"
            ],
            "application/vnd.google.colaboratory.intrinsic+json": {
              "type": "dataframe",
              "variable_name": "sales"
            }
          },
          "metadata": {},
          "execution_count": 86
        }
      ]
    },
    {
      "cell_type": "code",
      "source": [
        "store_sales_full = sales.merge(right=store, on='Store', how='left')"
      ],
      "metadata": {
        "id": "BEZtm8ZS6106"
      },
      "execution_count": 87,
      "outputs": []
    },
    {
      "cell_type": "code",
      "source": [
        "store_sales_full.info()"
      ],
      "metadata": {
        "colab": {
          "base_uri": "https://localhost:8080/"
        },
        "id": "ty-oXU7J7BNC",
        "outputId": "9d17bf6c-89d4-4aed-c8fa-962db0859651"
      },
      "execution_count": 88,
      "outputs": [
        {
          "output_type": "stream",
          "name": "stdout",
          "text": [
            "<class 'pandas.core.frame.DataFrame'>\n",
            "Int64Index: 336223 entries, 0 to 336222\n",
            "Data columns (total 18 columns):\n",
            " #   Column                     Non-Null Count   Dtype  \n",
            "---  ------                     --------------   -----  \n",
            " 0   Store                      336223 non-null  int64  \n",
            " 1   DayOfWeek                  336223 non-null  int64  \n",
            " 2   Date                       336223 non-null  object \n",
            " 3   Sales                      336222 non-null  float64\n",
            " 4   Customers                  336222 non-null  float64\n",
            " 5   Open                       336222 non-null  float64\n",
            " 6   Promo                      336222 non-null  float64\n",
            " 7   StateHoliday               336222 non-null  object \n",
            " 8   SchoolHoliday              336222 non-null  float64\n",
            " 9   StoreType                  336223 non-null  object \n",
            " 10  Assortment                 336223 non-null  object \n",
            " 11  CompetitionDistance        335373 non-null  float64\n",
            " 12  CompetitionOpenSinceMonth  229252 non-null  float64\n",
            " 13  CompetitionOpenSinceYear   229252 non-null  float64\n",
            " 14  Promo2                     336223 non-null  int64  \n",
            " 15  Promo2SinceWeek            165363 non-null  float64\n",
            " 16  Promo2SinceYear            165363 non-null  float64\n",
            " 17  PromoInterval              165363 non-null  object \n",
            "dtypes: float64(10), int64(3), object(5)\n",
            "memory usage: 48.7+ MB\n"
          ]
        }
      ]
    },
    {
      "cell_type": "code",
      "source": [
        "#store_sales = store_sales_full[\n",
        "#        (store_sales_full.Store == 1) | (store_sales_full.Store == 3)| (store_sales_full.Store == 8)| (store_sales_full.Store == 9)| (store_sales_full.Store == 13) |\n",
        "#        (store_sales_full.Store == 25) | (store_sales_full.Store == 29)| (store_sales_full.Store == 31)| (store_sales_full.Store == 46)\n",
        "#     ]\n"
      ],
      "metadata": {
        "id": "E9ZviNe_7X0c"
      },
      "execution_count": 89,
      "outputs": []
    },
    {
      "cell_type": "code",
      "source": [
        "store_sales = store_sales_full"
      ],
      "metadata": {
        "id": "7-gVpiIhS6TP"
      },
      "execution_count": 90,
      "outputs": []
    },
    {
      "cell_type": "code",
      "source": [
        "store_sales.info()"
      ],
      "metadata": {
        "colab": {
          "base_uri": "https://localhost:8080/"
        },
        "id": "qtOHlgprHm1B",
        "outputId": "1aca66e4-946f-4895-8623-015dd45014f3"
      },
      "execution_count": 91,
      "outputs": [
        {
          "output_type": "stream",
          "name": "stdout",
          "text": [
            "<class 'pandas.core.frame.DataFrame'>\n",
            "Int64Index: 336223 entries, 0 to 336222\n",
            "Data columns (total 18 columns):\n",
            " #   Column                     Non-Null Count   Dtype  \n",
            "---  ------                     --------------   -----  \n",
            " 0   Store                      336223 non-null  int64  \n",
            " 1   DayOfWeek                  336223 non-null  int64  \n",
            " 2   Date                       336223 non-null  object \n",
            " 3   Sales                      336222 non-null  float64\n",
            " 4   Customers                  336222 non-null  float64\n",
            " 5   Open                       336222 non-null  float64\n",
            " 6   Promo                      336222 non-null  float64\n",
            " 7   StateHoliday               336222 non-null  object \n",
            " 8   SchoolHoliday              336222 non-null  float64\n",
            " 9   StoreType                  336223 non-null  object \n",
            " 10  Assortment                 336223 non-null  object \n",
            " 11  CompetitionDistance        335373 non-null  float64\n",
            " 12  CompetitionOpenSinceMonth  229252 non-null  float64\n",
            " 13  CompetitionOpenSinceYear   229252 non-null  float64\n",
            " 14  Promo2                     336223 non-null  int64  \n",
            " 15  Promo2SinceWeek            165363 non-null  float64\n",
            " 16  Promo2SinceYear            165363 non-null  float64\n",
            " 17  PromoInterval              165363 non-null  object \n",
            "dtypes: float64(10), int64(3), object(5)\n",
            "memory usage: 48.7+ MB\n"
          ]
        }
      ]
    },
    {
      "cell_type": "code",
      "source": [
        "#Check nulls for null treatment\n",
        "store_sales.isna().sum()"
      ],
      "metadata": {
        "colab": {
          "base_uri": "https://localhost:8080/"
        },
        "id": "wc8oWwyjHuSY",
        "outputId": "78e4a62f-5374-464e-d706-9265af1ce228"
      },
      "execution_count": 92,
      "outputs": [
        {
          "output_type": "execute_result",
          "data": {
            "text/plain": [
              "Store                             0\n",
              "DayOfWeek                         0\n",
              "Date                              0\n",
              "Sales                             1\n",
              "Customers                         1\n",
              "Open                              1\n",
              "Promo                             1\n",
              "StateHoliday                      1\n",
              "SchoolHoliday                     1\n",
              "StoreType                         0\n",
              "Assortment                        0\n",
              "CompetitionDistance             850\n",
              "CompetitionOpenSinceMonth    106971\n",
              "CompetitionOpenSinceYear     106971\n",
              "Promo2                            0\n",
              "Promo2SinceWeek              170860\n",
              "Promo2SinceYear              170860\n",
              "PromoInterval                170860\n",
              "dtype: int64"
            ]
          },
          "metadata": {},
          "execution_count": 92
        }
      ]
    },
    {
      "cell_type": "markdown",
      "source": [
        "#### ***Findings*** : When no Promo (Promo2 =0) then no Promo related details available in Promo2SinceWeek , Promo2SinceYear and PromoInterval"
      ],
      "metadata": {
        "id": "gv6lpvWr9gCj"
      }
    },
    {
      "cell_type": "code",
      "source": [
        "#Promo2 - Promo2 is a continuing and consecutive promotion for some stores: 0 = store is not participating, 1 = store is participating\n",
        "store_sales.Promo2.value_counts()"
      ],
      "metadata": {
        "colab": {
          "base_uri": "https://localhost:8080/"
        },
        "id": "JVyCNGjJGf4i",
        "outputId": "c62cb8f5-d70c-481b-f284-7fdf9adf0832"
      },
      "execution_count": 93,
      "outputs": [
        {
          "output_type": "execute_result",
          "data": {
            "text/plain": [
              "0    170860\n",
              "1    165363\n",
              "Name: Promo2, dtype: int64"
            ]
          },
          "metadata": {},
          "execution_count": 93
        }
      ]
    },
    {
      "cell_type": "code",
      "source": [
        "store_sales = store_sales.astype({\n",
        "    'CompetitionOpenSinceMonth': pd.Int8Dtype(),\n",
        "    'CompetitionOpenSinceYear': pd.Int16Dtype(),\n",
        "    'Promo2SinceWeek': pd.Int8Dtype(),\n",
        "    'Promo2SinceYear': pd.Int16Dtype()\n",
        "})\n",
        "\n",
        "# Convert Date to a date-time-object\n",
        "store_sales['Date'] = pd.to_datetime(store_sales['Date'], format='%Y-%m-%d')\n",
        "\n",
        "store_sales.StateHoliday = store_sales.StateHoliday.replace(0,'N/A')\n",
        "\n",
        "#NULL Treatment - we will set it as -1 to indicate there was no promotion.\n",
        "#Promo2Since[Year/Week] - describes the year and calendar week when the store started participating in Promo2\n",
        "store_sales['Promo2SinceWeek'] = store_sales['Promo2SinceWeek'].replace(np.nan,-1).astype(int)\n",
        "store_sales['Promo2SinceYear'] = store_sales['Promo2SinceYear'].replace(np.nan,-1).astype(int)\n",
        "\n",
        "store_sales['PromoInterval'] = store_sales['PromoInterval'].replace(np.nan,'N/A')\n",
        "\n",
        "#Competition Distance and other competitor related fields values not available would indicate no competitor so can fill with -1\n",
        "store_sales['CompetitionDistance'] = store_sales['CompetitionDistance'].replace(np.nan,-1).astype(int)\n",
        "store_sales['CompetitionOpenSinceMonth'] = store_sales['CompetitionOpenSinceMonth'].replace(np.nan,-1).astype(int)\n",
        "store_sales['CompetitionOpenSinceYear'] = store_sales['CompetitionOpenSinceYear'].replace(np.nan,-1).astype(int)\n",
        "\n",
        "\n",
        "store_sales['Promo'] = store_sales['Promo'].astype(bool)\n",
        "store_sales['Promo2'] = store_sales['Promo2'].astype(bool)\n",
        "\n",
        "store_sales['PromoInterval'] = store_sales['PromoInterval'].replace(np.nan,'N/A')\n"
      ],
      "metadata": {
        "id": "mAayqCdaWzu3"
      },
      "execution_count": 94,
      "outputs": []
    },
    {
      "cell_type": "code",
      "source": [
        "store_sales.info()"
      ],
      "metadata": {
        "colab": {
          "base_uri": "https://localhost:8080/"
        },
        "id": "zyr9WqqQXNSp",
        "outputId": "273422de-3f56-4229-bdbf-249029df2d23"
      },
      "execution_count": 95,
      "outputs": [
        {
          "output_type": "stream",
          "name": "stdout",
          "text": [
            "<class 'pandas.core.frame.DataFrame'>\n",
            "Int64Index: 336223 entries, 0 to 336222\n",
            "Data columns (total 18 columns):\n",
            " #   Column                     Non-Null Count   Dtype         \n",
            "---  ------                     --------------   -----         \n",
            " 0   Store                      336223 non-null  int64         \n",
            " 1   DayOfWeek                  336223 non-null  int64         \n",
            " 2   Date                       336223 non-null  datetime64[ns]\n",
            " 3   Sales                      336222 non-null  float64       \n",
            " 4   Customers                  336222 non-null  float64       \n",
            " 5   Open                       336222 non-null  float64       \n",
            " 6   Promo                      336223 non-null  bool          \n",
            " 7   StateHoliday               336222 non-null  object        \n",
            " 8   SchoolHoliday              336222 non-null  float64       \n",
            " 9   StoreType                  336223 non-null  object        \n",
            " 10  Assortment                 336223 non-null  object        \n",
            " 11  CompetitionDistance        336223 non-null  int64         \n",
            " 12  CompetitionOpenSinceMonth  336223 non-null  int64         \n",
            " 13  CompetitionOpenSinceYear   336223 non-null  int64         \n",
            " 14  Promo2                     336223 non-null  bool          \n",
            " 15  Promo2SinceWeek            336223 non-null  int64         \n",
            " 16  Promo2SinceYear            336223 non-null  int64         \n",
            " 17  PromoInterval              336223 non-null  object        \n",
            "dtypes: bool(2), datetime64[ns](1), float64(4), int64(7), object(4)\n",
            "memory usage: 44.2+ MB\n"
          ]
        }
      ]
    },
    {
      "cell_type": "code",
      "source": [
        "#Promo2 - Promo2 is a continuing and consecutive promotion for some stores: 0 = store is not participating, 1 = store is participating\n",
        "store_sales.Promo2.value_counts()"
      ],
      "metadata": {
        "colab": {
          "base_uri": "https://localhost:8080/"
        },
        "id": "iwzlobbxIEWB",
        "outputId": "a4209618-f3c0-467e-ab9f-f39bfd6b65a3"
      },
      "execution_count": 96,
      "outputs": [
        {
          "output_type": "execute_result",
          "data": {
            "text/plain": [
              "False    170860\n",
              "True     165363\n",
              "Name: Promo2, dtype: int64"
            ]
          },
          "metadata": {},
          "execution_count": 96
        }
      ]
    },
    {
      "cell_type": "code",
      "source": [
        "store_sales.columns"
      ],
      "metadata": {
        "colab": {
          "base_uri": "https://localhost:8080/"
        },
        "id": "iKI5im6gZx8a",
        "outputId": "14725bb1-ed9c-4ec8-c802-72ec5acdf552"
      },
      "execution_count": 97,
      "outputs": [
        {
          "output_type": "execute_result",
          "data": {
            "text/plain": [
              "Index(['Store', 'DayOfWeek', 'Date', 'Sales', 'Customers', 'Open', 'Promo',\n",
              "       'StateHoliday', 'SchoolHoliday', 'StoreType', 'Assortment',\n",
              "       'CompetitionDistance', 'CompetitionOpenSinceMonth',\n",
              "       'CompetitionOpenSinceYear', 'Promo2', 'Promo2SinceWeek',\n",
              "       'Promo2SinceYear', 'PromoInterval'],\n",
              "      dtype='object')"
            ]
          },
          "metadata": {},
          "execution_count": 97
        }
      ]
    },
    {
      "cell_type": "code",
      "source": [
        "# Select categorical columns\n",
        "categorical_cols = ['Promo','StoreType', 'Assortment','CompetitionOpenSinceMonth', 'CompetitionOpenSinceYear', 'Promo2',\n",
        "       'Promo2SinceWeek', 'Promo2SinceYear', 'PromoInterval']#Excluding Store\n",
        "\n",
        "# Define rows and columns for subplots\n",
        "rows = int(np.ceil(len(categorical_cols) / 2))  # Assuming 3 columns per row\n",
        "cols = min(2, len(categorical_cols))\n",
        "\n",
        "# Create figure and subplots\n",
        "fig, axs = plt.subplots(rows, cols, figsize=(20, 10), squeeze=True)  # Ensure 1D array of subplots\n",
        "\n",
        "for i, col in enumerate(categorical_cols):\n",
        "    sns.countplot(x=col, data=store_sales, ax=axs.ravel()[i], palette=\"hls\")\n",
        "    axs.ravel()[i].set_title(col)\n",
        "    axs.ravel()[i].xaxis.set_label_text(col)  # Access and set label on the correct subplot's axis\n",
        "\n",
        "# Adjust spacing and show the plot\n",
        "plt.tight_layout()\n",
        "plt.show()\n"
      ],
      "metadata": {
        "id": "gnOYiMdFd1sJ"
      },
      "execution_count": null,
      "outputs": []
    },
    {
      "cell_type": "markdown",
      "source": [
        "**Inferences**\n",
        "> Maximum competitions are opened in the month of september or 9\n",
        "\n",
        "> Maximum competitiors opened their store in the year 2013\n",
        "\n",
        "> 48% stores don't have promo2\n",
        "\n",
        "> StoreType = a is maximum among others\n",
        "\n",
        "> Majority of assortments are 'a'\n",
        "\n",
        "\n",
        "\n"
      ],
      "metadata": {
        "id": "9JH9bUWknW8s"
      }
    },
    {
      "cell_type": "code",
      "source": [
        "store_sales.columns"
      ],
      "metadata": {
        "id": "5IyRKUSLuTQU",
        "colab": {
          "base_uri": "https://localhost:8080/"
        },
        "outputId": "05778a1c-d403-49aa-e7b5-e35ba8df051c"
      },
      "execution_count": 99,
      "outputs": [
        {
          "output_type": "execute_result",
          "data": {
            "text/plain": [
              "Index(['Store', 'DayOfWeek', 'Date', 'Sales', 'Customers', 'Open', 'Promo',\n",
              "       'StateHoliday', 'SchoolHoliday', 'StoreType', 'Assortment',\n",
              "       'CompetitionDistance', 'CompetitionOpenSinceMonth',\n",
              "       'CompetitionOpenSinceYear', 'Promo2', 'Promo2SinceWeek',\n",
              "       'Promo2SinceYear', 'PromoInterval'],\n",
              "      dtype='object')"
            ]
          },
          "metadata": {},
          "execution_count": 99
        }
      ]
    },
    {
      "cell_type": "code",
      "source": [
        "# Select categorical columns\n",
        "sales_categorical_cols = ['DayOfWeek', 'Promo','Open', 'StoreType','Assortment', 'CompetitionOpenSinceYear', 'StateHoliday','SchoolHoliday','Promo2','Promo2SinceWeek','Promo2SinceYear', 'PromoInterval']\n",
        "\n",
        "# Define rows and columns for subplots\n",
        "rows = int(np.ceil(len(sales_categorical_cols) / 2))  # Assuming 2 columns per row\n",
        "cols = min(2, len(sales_categorical_cols))\n",
        "\n",
        "# Create figure and subplots\n",
        "fig, axs = plt.subplots(rows, cols, figsize=(15, 10), squeeze=True)  # Ensure 1D array of subplots\n",
        "\n",
        "for i, col in enumerate(sales_categorical_cols):\n",
        "    sns.barplot(x=col, y='Sales', data=store_sales, ax=axs.ravel()[i], palette=\"Dark2\")\n",
        "    axs.ravel()[i].set_title(col)\n",
        "    axs.ravel()[i].xaxis.set_label_text(col)  # Access and set label on the correct subplot's axis\n",
        "\n",
        "# Adjust spacing and show the plot\n",
        "plt.tight_layout()\n",
        "plt.show()\n"
      ],
      "metadata": {
        "id": "RonvIniQugG4",
        "colab": {
          "base_uri": "https://localhost:8080/",
          "height": 1000
        },
        "outputId": "ca63ad26-54c7-401d-8fc9-4d202e18a054"
      },
      "execution_count": 100,
      "outputs": [
        {
          "output_type": "display_data",
          "data": {
            "text/plain": [
              "<Figure size 1500x1000 with 12 Axes>"
            ],
            "image/png": "[encoded data removed]"
          },
          "metadata": {}
        }
      ]
    },
    {
      "cell_type": "code",
      "source": [
        "#Sales_Customers\n",
        "from pandas.plotting import scatter_matrix\n",
        "attributes = [\"Sales\", \"Customers\"]\n",
        "scatter_matrix(store_sales[attributes]);"
      ],
      "metadata": {
        "colab": {
          "base_uri": "https://localhost:8080/",
          "height": 471
        },
        "id": "rGYUfcUgOQKM",
        "outputId": "04a493da-3844-4594-9579-f03e9c34dce1"
      },
      "execution_count": 101,
      "outputs": [
        {
          "output_type": "display_data",
          "data": {
            "text/plain": [
              "<Figure size 640x480 with 4 Axes>"
            ],
            "image/png": "[encoded data removed]"
          },
          "metadata": {}
        }
      ]
    },
    {
      "cell_type": "markdown",
      "source": [
        "**Inferences**\n",
        "*   All days of the week have almost equal sales\n",
        "*   Mostly the store is open\n",
        "*   Promotions are less active"
      ],
      "metadata": {
        "id": "XTaFi4Zq9Ah0"
      }
    },
    {
      "cell_type": "code",
      "source": [
        "# detecting outliers\n",
        "store_sales.describe(percentiles=[0.90,0.95,0.99])"
      ],
      "metadata": {
        "colab": {
          "base_uri": "https://localhost:8080/",
          "height": 352
        },
        "id": "HbNOcEO4BWMR",
        "outputId": "bb213ca8-327d-4e23-bcee-ce488dccbadd"
      },
      "execution_count": 102,
      "outputs": [
        {
          "output_type": "execute_result",
          "data": {
            "text/plain": [
              "               Store      DayOfWeek          Sales      Customers  \\\n",
              "count  336223.000000  336223.000000  336222.000000  336222.000000   \n",
              "mean      558.493054       3.996175    5970.511537     638.695817   \n",
              "std       321.849137       1.992095    3940.824148     466.432543   \n",
              "min         1.000000       1.000000       0.000000       0.000000   \n",
              "50%       558.000000       4.000000    5974.000000     617.000000   \n",
              "90%      1004.000000       7.000000   10595.000000    1115.000000   \n",
              "95%      1060.000000       7.000000   12470.000000    1359.000000   \n",
              "99%      1104.000000       7.000000   17400.000000    2305.000000   \n",
              "max      1115.000000       7.000000   41551.000000    5494.000000   \n",
              "\n",
              "                Open  SchoolHoliday  CompetitionDistance  \\\n",
              "count  336222.000000  336222.000000        336223.000000   \n",
              "mean        0.829235       0.154324          5435.760106   \n",
              "std         0.376304       0.361259          7752.719268   \n",
              "min         0.000000       0.000000            -1.000000   \n",
              "50%         1.000000       0.000000          2320.000000   \n",
              "90%         1.000000       1.000000         15710.000000   \n",
              "95%         1.000000       1.000000         20390.000000   \n",
              "99%         1.000000       1.000000         36410.000000   \n",
              "max         1.000000       1.000000         75860.000000   \n",
              "\n",
              "       CompetitionOpenSinceMonth  CompetitionOpenSinceYear  Promo2SinceWeek  \\\n",
              "count              336223.000000             336223.000000    336223.000000   \n",
              "mean                    4.605895               1369.308319        10.810078   \n",
              "std                     4.658594                936.054552        15.537056   \n",
              "min                    -1.000000                 -1.000000        -1.000000   \n",
              "50%                     4.000000               2006.000000        -1.000000   \n",
              "90%                    11.000000               2013.000000        37.000000   \n",
              "95%                    12.000000               2014.000000        40.000000   \n",
              "99%                    12.000000               2015.000000        45.000000   \n",
              "max                    12.000000               2015.000000        50.000000   \n",
              "\n",
              "       Promo2SinceYear  \n",
              "count    336223.000000  \n",
              "mean        988.918664  \n",
              "std        1006.239767  \n",
              "min          -1.000000  \n",
              "50%          -1.000000  \n",
              "90%        2013.000000  \n",
              "95%        2014.000000  \n",
              "99%        2014.000000  \n",
              "max        2015.000000  "
            ],
            "text/html": [
              "\n",
              "  <div id=\"df-c7e87a81-bc94-4c00-b693-5fb3f74a1915\" class=\"colab-df-container\">\n",
              "    <div>\n",
              "<style scoped>\n",
              "    .dataframe tbody tr th:only-of-type {\n",
              "        vertical-align: middle;\n",
              "    }\n",
              "\n",
              "    .dataframe tbody tr th {\n",
              "        vertical-align: top;\n",
              "    }\n",
              "\n",
              "    .dataframe thead th {\n",
              "        text-align: right;\n",
              "    }\n",
              "</style>\n",
              "<table border=\"1\" class=\"dataframe\">\n",
              "  <thead>\n",
              "    <tr style=\"text-align: right;\">\n",
              "      <th></th>\n",
              "      <th>Store</th>\n",
              "      <th>DayOfWeek</th>\n",
              "      <th>Sales</th>\n",
              "      <th>Customers</th>\n",
              "      <th>Open</th>\n",
              "      <th>SchoolHoliday</th>\n",
              "      <th>CompetitionDistance</th>\n",
              "      <th>CompetitionOpenSinceMonth</th>\n",
              "      <th>CompetitionOpenSinceYear</th>\n",
              "      <th>Promo2SinceWeek</th>\n",
              "      <th>Promo2SinceYear</th>\n",
              "    </tr>\n",
              "  </thead>\n",
              "  <tbody>\n",
              "    <tr>\n",
              "      <th>count</th>\n",
              "      <td>336223.000000</td>\n",
              "      <td>336223.000000</td>\n",
              "      <td>336222.000000</td>\n",
              "      <td>336222.000000</td>\n",
              "      <td>336222.000000</td>\n",
              "      <td>336222.000000</td>\n",
              "      <td>336223.000000</td>\n",
              "      <td>336223.000000</td>\n",
              "      <td>336223.000000</td>\n",
              "      <td>336223.000000</td>\n",
              "      <td>336223.000000</td>\n",
              "    </tr>\n",
              "    <tr>\n",
              "      <th>mean</th>\n",
              "      <td>558.493054</td>\n",
              "      <td>3.996175</td>\n",
              "      <td>5970.511537</td>\n",
              "      <td>638.695817</td>\n",
              "      <td>0.829235</td>\n",
              "      <td>0.154324</td>\n",
              "      <td>5435.760106</td>\n",
              "      <td>4.605895</td>\n",
              "      <td>1369.308319</td>\n",
              "      <td>10.810078</td>\n",
              "      <td>988.918664</td>\n",
              "    </tr>\n",
              "    <tr>\n",
              "      <th>std</th>\n",
              "      <td>321.849137</td>\n",
              "      <td>1.992095</td>\n",
              "      <td>3940.824148</td>\n",
              "      <td>466.432543</td>\n",
              "      <td>0.376304</td>\n",
              "      <td>0.361259</td>\n",
              "      <td>7752.719268</td>\n",
              "      <td>4.658594</td>\n",
              "      <td>936.054552</td>\n",
              "      <td>15.537056</td>\n",
              "      <td>1006.239767</td>\n",
              "    </tr>\n",
              "    <tr>\n",
              "      <th>min</th>\n",
              "      <td>1.000000</td>\n",
              "      <td>1.000000</td>\n",
              "      <td>0.000000</td>\n",
              "      <td>0.000000</td>\n",
              "      <td>0.000000</td>\n",
              "      <td>0.000000</td>\n",
              "      <td>-1.000000</td>\n",
              "      <td>-1.000000</td>\n",
              "      <td>-1.000000</td>\n",
              "      <td>-1.000000</td>\n",
              "      <td>-1.000000</td>\n",
              "    </tr>\n",
              "    <tr>\n",
              "      <th>50%</th>\n",
              "      <td>558.000000</td>\n",
              "      <td>4.000000</td>\n",
              "      <td>5974.000000</td>\n",
              "      <td>617.000000</td>\n",
              "      <td>1.000000</td>\n",
              "      <td>0.000000</td>\n",
              "      <td>2320.000000</td>\n",
              "      <td>4.000000</td>\n",
              "      <td>2006.000000</td>\n",
              "      <td>-1.000000</td>\n",
              "      <td>-1.000000</td>\n",
              "    </tr>\n",
              "    <tr>\n",
              "      <th>90%</th>\n",
              "      <td>1004.000000</td>\n",
              "      <td>7.000000</td>\n",
              "      <td>10595.000000</td>\n",
              "      <td>1115.000000</td>\n",
              "      <td>1.000000</td>\n",
              "      <td>1.000000</td>\n",
              "      <td>15710.000000</td>\n",
              "      <td>11.000000</td>\n",
              "      <td>2013.000000</td>\n",
              "      <td>37.000000</td>\n",
              "      <td>2013.000000</td>\n",
              "    </tr>\n",
              "    <tr>\n",
              "      <th>95%</th>\n",
              "      <td>1060.000000</td>\n",
              "      <td>7.000000</td>\n",
              "      <td>12470.000000</td>\n",
              "      <td>1359.000000</td>\n",
              "      <td>1.000000</td>\n",
              "      <td>1.000000</td>\n",
              "      <td>20390.000000</td>\n",
              "      <td>12.000000</td>\n",
              "      <td>2014.000000</td>\n",
              "      <td>40.000000</td>\n",
              "      <td>2014.000000</td>\n",
              "    </tr>\n",
              "    <tr>\n",
              "      <th>99%</th>\n",
              "      <td>1104.000000</td>\n",
              "      <td>7.000000</td>\n",
              "      <td>17400.000000</td>\n",
              "      <td>2305.000000</td>\n",
              "      <td>1.000000</td>\n",
              "      <td>1.000000</td>\n",
              "      <td>36410.000000</td>\n",
              "      <td>12.000000</td>\n",
              "      <td>2015.000000</td>\n",
              "      <td>45.000000</td>\n",
              "      <td>2014.000000</td>\n",
              "    </tr>\n",
              "    <tr>\n",
              "      <th>max</th>\n",
              "      <td>1115.000000</td>\n",
              "      <td>7.000000</td>\n",
              "      <td>41551.000000</td>\n",
              "      <td>5494.000000</td>\n",
              "      <td>1.000000</td>\n",
              "      <td>1.000000</td>\n",
              "      <td>75860.000000</td>\n",
              "      <td>12.000000</td>\n",
              "      <td>2015.000000</td>\n",
              "      <td>50.000000</td>\n",
              "      <td>2015.000000</td>\n",
              "    </tr>\n",
              "  </tbody>\n",
              "</table>\n",
              "</div>\n",
              "    <div class=\"colab-df-buttons\">\n",
              "\n",
              "  <div class=\"colab-df-container\">\n",
              "    <button class=\"colab-df-convert\" onclick=\"convertToInteractive('df-c7e87a81-bc94-4c00-b693-5fb3f74a1915')\"\n",
              "            title=\"Convert this dataframe to an interactive table.\"\n",
              "            style=\"display:none;\">\n",
              "\n",
              "  <svg xmlns=\"http://www.w3.org/2000/svg\" height=\"24px\" viewBox=\"0 -960 960 960\">\n",
              "    <path d=\"M120-120v-720h720v720H120Zm60-500h600v-160H180v160Zm220 220h160v-160H400v160Zm0 220h160v-160H400v160ZM180-400h160v-160H180v160Zm440 0h160v-160H620v160ZM180-180h160v-160H180v160Zm440 0h160v-160H620v160Z\"/>\n",
              "  </svg>\n",
              "    </button>\n",
              "\n",
              "  <style>\n",
              "    .colab-df-container {\n",
              "      display:flex;\n",
              "      gap: 12px;\n",
              "    }\n",
              "\n",
              "    .colab-df-convert {\n",
              "      background-color: #E8F0FE;\n",
              "      border: none;\n",
              "      border-radius: 50%;\n",
              "      cursor: pointer;\n",
              "      display: none;\n",
              "      fill: #1967D2;\n",
              "      height: 32px;\n",
              "      padding: 0 0 0 0;\n",
              "      width: 32px;\n",
              "    }\n",
              "\n",
              "    .colab-df-convert:hover {\n",
              "      background-color: #E2EBFA;\n",
              "      box-shadow: 0px 1px 2px rgba(60, 64, 67, 0.3), 0px 1px 3px 1px rgba(60, 64, 67, 0.15);\n",
              "      fill: #174EA6;\n",
              "    }\n",
              "\n",
              "    .colab-df-buttons div {\n",
              "      margin-bottom: 4px;\n",
              "    }\n",
              "\n",
              "    [theme=dark] .colab-df-convert {\n",
              "      background-color: #3B4455;\n",
              "      fill: #D2E3FC;\n",
              "    }\n",
              "\n",
              "    [theme=dark] .colab-df-convert:hover {\n",
              "      background-color: #434B5C;\n",
              "      box-shadow: 0px 1px 3px 1px rgba(0, 0, 0, 0.15);\n",
              "      filter: drop-shadow(0px 1px 2px rgba(0, 0, 0, 0.3));\n",
              "      fill: #FFFFFF;\n",
              "    }\n",
              "  </style>\n",
              "\n",
              "    <script>\n",
              "      const buttonEl =\n",
              "        document.querySelector('#df-c7e87a81-bc94-4c00-b693-5fb3f74a1915 button.colab-df-convert');\n",
              "      buttonEl.style.display =\n",
              "        google.colab.kernel.accessAllowed ? 'block' : 'none';\n",
              "\n",
              "      async function convertToInteractive(key) {\n",
              "        const element = document.querySelector('#df-c7e87a81-bc94-4c00-b693-5fb3f74a1915');\n",
              "        const dataTable =\n",
              "          await google.colab.kernel.invokeFunction('convertToInteractive',\n",
              "                                                    [key], {});\n",
              "        if (!dataTable) return;\n",
              "\n",
              "        const docLinkHtml = 'Like what you see? Visit the ' +\n",
              "          '<a target=\"_blank\" href=https://colab.research.google.com/notebooks/data_table.ipynb>data table notebook</a>'\n",
              "          + ' to learn more about interactive tables.';\n",
              "        element.innerHTML = '';\n",
              "        dataTable['output_type'] = 'display_data';\n",
              "        await google.colab.output.renderOutput(dataTable, element);\n",
              "        const docLink = document.createElement('div');\n",
              "        docLink.innerHTML = docLinkHtml;\n",
              "        element.appendChild(docLink);\n",
              "      }\n",
              "    </script>\n",
              "  </div>\n",
              "\n",
              "\n",
              "<div id=\"df-629c41be-278c-402b-9840-907d5f98e721\">\n",
              "  <button class=\"colab-df-quickchart\" onclick=\"quickchart('df-629c41be-278c-402b-9840-907d5f98e721')\"\n",
              "            title=\"Suggest charts\"\n",
              "            style=\"display:none;\">\n",
              "\n",
              "<svg xmlns=\"http://www.w3.org/2000/svg\" height=\"24px\"viewBox=\"0 0 24 24\"\n",
              "     width=\"24px\">\n",
              "    <g>\n",
              "        <path d=\"M19 3H5c-1.1 0-2 .9-2 2v14c0 1.1.9 2 2 2h14c1.1 0 2-.9 2-2V5c0-1.1-.9-2-2-2zM9 17H7v-7h2v7zm4 0h-2V7h2v10zm4 0h-2v-4h2v4z\"/>\n",
              "    </g>\n",
              "</svg>\n",
              "  </button>\n",
              "\n",
              "<style>\n",
              "  .colab-df-quickchart {\n",
              "      --bg-color: #E8F0FE;\n",
              "      --fill-color: #1967D2;\n",
              "      --hover-bg-color: #E2EBFA;\n",
              "      --hover-fill-color: #174EA6;\n",
              "      --disabled-fill-color: #AAA;\n",
              "      --disabled-bg-color: #DDD;\n",
              "  }\n",
              "\n",
              "  [theme=dark] .colab-df-quickchart {\n",
              "      --bg-color: #3B4455;\n",
              "      --fill-color: #D2E3FC;\n",
              "      --hover-bg-color: #434B5C;\n",
              "      --hover-fill-color: #FFFFFF;\n",
              "      --disabled-bg-color: #3B4455;\n",
              "      --disabled-fill-color: #666;\n",
              "  }\n",
              "\n",
              "  .colab-df-quickchart {\n",
              "    background-color: var(--bg-color);\n",
              "    border: none;\n",
              "    border-radius: 50%;\n",
              "    cursor: pointer;\n",
              "    display: none;\n",
              "    fill: var(--fill-color);\n",
              "    height: 32px;\n",
              "    padding: 0;\n",
              "    width: 32px;\n",
              "  }\n",
              "\n",
              "  .colab-df-quickchart:hover {\n",
              "    background-color: var(--hover-bg-color);\n",
              "    box-shadow: 0 1px 2px rgba(60, 64, 67, 0.3), 0 1px 3px 1px rgba(60, 64, 67, 0.15);\n",
              "    fill: var(--button-hover-fill-color);\n",
              "  }\n",
              "\n",
              "  .colab-df-quickchart-complete:disabled,\n",
              "  .colab-df-quickchart-complete:disabled:hover {\n",
              "    background-color: var(--disabled-bg-color);\n",
              "    fill: var(--disabled-fill-color);\n",
              "    box-shadow: none;\n",
              "  }\n",
              "\n",
              "  .colab-df-spinner {\n",
              "    border: 2px solid var(--fill-color);\n",
              "    border-color: transparent;\n",
              "    border-bottom-color: var(--fill-color);\n",
              "    animation:\n",
              "      spin 1s steps(1) infinite;\n",
              "  }\n",
              "\n",
              "  @keyframes spin {\n",
              "    0% {\n",
              "      border-color: transparent;\n",
              "      border-bottom-color: var(--fill-color);\n",
              "      border-left-color: var(--fill-color);\n",
              "    }\n",
              "    20% {\n",
              "      border-color: transparent;\n",
              "      border-left-color: var(--fill-color);\n",
              "      border-top-color: var(--fill-color);\n",
              "    }\n",
              "    30% {\n",
              "      border-color: transparent;\n",
              "      border-left-color: var(--fill-color);\n",
              "      border-top-color: var(--fill-color);\n",
              "      border-right-color: var(--fill-color);\n",
              "    }\n",
              "    40% {\n",
              "      border-color: transparent;\n",
              "      border-right-color: var(--fill-color);\n",
              "      border-top-color: var(--fill-color);\n",
              "    }\n",
              "    60% {\n",
              "      border-color: transparent;\n",
              "      border-right-color: var(--fill-color);\n",
              "    }\n",
              "    80% {\n",
              "      border-color: transparent;\n",
              "      border-right-color: var(--fill-color);\n",
              "      border-bottom-color: var(--fill-color);\n",
              "    }\n",
              "    90% {\n",
              "      border-color: transparent;\n",
              "      border-bottom-color: var(--fill-color);\n",
              "    }\n",
              "  }\n",
              "</style>\n",
              "\n",
              "  <script>\n",
              "    async function quickchart(key) {\n",
              "      const quickchartButtonEl =\n",
              "        document.querySelector('#' + key + ' button');\n",
              "      quickchartButtonEl.disabled = true;  // To prevent multiple clicks.\n",
              "      quickchartButtonEl.classList.add('colab-df-spinner');\n",
              "      try {\n",
              "        const charts = await google.colab.kernel.invokeFunction(\n",
              "            'suggestCharts', [key], {});\n",
              "      } catch (error) {\n",
              "        console.error('Error during call to suggestCharts:', error);\n",
              "      }\n",
              "      quickchartButtonEl.classList.remove('colab-df-spinner');\n",
              "      quickchartButtonEl.classList.add('colab-df-quickchart-complete');\n",
              "    }\n",
              "    (() => {\n",
              "      let quickchartButtonEl =\n",
              "        document.querySelector('#df-629c41be-278c-402b-9840-907d5f98e721 button');\n",
              "      quickchartButtonEl.style.display =\n",
              "        google.colab.kernel.accessAllowed ? 'block' : 'none';\n",
              "    })();\n",
              "  </script>\n",
              "</div>\n",
              "\n",
              "    </div>\n",
              "  </div>\n"
            ],
            "application/vnd.google.colaboratory.intrinsic+json": {
              "type": "dataframe",
              "summary": "{\n  \"name\": \"store_sales\",\n  \"rows\": 9,\n  \"fields\": [\n    {\n      \"column\": \"Store\",\n      \"properties\": {\n        \"dtype\": \"number\",\n        \"std\": 111836.58832975084,\n        \"min\": 1.0,\n        \"max\": 336223.0,\n        \"num_unique_values\": 9,\n        \"samples\": [\n          1104.0,\n          558.4930537173245,\n          1004.0\n        ],\n        \"semantic_type\": \"\",\n        \"description\": \"\"\n      }\n    },\n    {\n      \"column\": \"DayOfWeek\",\n      \"properties\": {\n        \"dtype\": \"number\",\n        \"std\": 112072.70884603447,\n        \"min\": 1.0,\n        \"max\": 336223.0,\n        \"num_unique_values\": 6,\n        \"samples\": [\n          336223.0,\n          3.99617515755912,\n          7.0\n        ],\n        \"semantic_type\": \"\",\n        \"description\": \"\"\n      }\n    },\n    {\n      \"column\": \"Sales\",\n      \"properties\": {\n        \"dtype\": \"number\",\n        \"std\": 108678.86087730974,\n        \"min\": 0.0,\n        \"max\": 336222.0,\n        \"num_unique_values\": 9,\n        \"samples\": [\n          17400.0,\n          5970.511537020183,\n          10595.0\n        ],\n        \"semantic_type\": \"\",\n        \"description\": \"\"\n      }\n    },\n    {\n      \"column\": \"Customers\",\n      \"properties\": {\n        \"dtype\": \"number\",\n        \"std\": 111586.30635831019,\n        \"min\": 0.0,\n        \"max\": 336222.0,\n        \"num_unique_values\": 9,\n        \"samples\": [\n          2305.0,\n          638.6958170494495,\n          1115.0\n        ],\n        \"semantic_type\": \"\",\n        \"description\": \"\"\n      }\n    },\n    {\n      \"column\": \"Open\",\n      \"properties\": {\n        \"dtype\": \"number\",\n        \"std\": 112073.7414364402,\n        \"min\": 0.0,\n        \"max\": 336222.0,\n        \"num_unique_values\": 5,\n        \"samples\": [\n          0.8292348507831135,\n          1.0,\n          0.37630417775319785\n        ],\n        \"semantic_type\": \"\",\n        \"description\": \"\"\n      }\n    },\n    {\n      \"column\": \"SchoolHoliday\",\n      \"properties\": {\n        \"dtype\": \"number\",\n        \"std\": 112073.81185160915,\n        \"min\": 0.0,\n        \"max\": 336222.0,\n        \"num_unique_values\": 5,\n        \"samples\": [\n          0.15432363141019922,\n          1.0,\n          0.36125923705764945\n        ],\n        \"semantic_type\": \"\",\n        \"description\": \"\"\n      }\n    },\n    {\n      \"column\": \"CompetitionDistance\",\n      \"properties\": {\n        \"dtype\": \"number\",\n        \"std\": 107874.33713559252,\n        \"min\": -1.0,\n        \"max\": 336223.0,\n        \"num_unique_values\": 9,\n        \"samples\": [\n          36410.0,\n          5435.760105644171,\n          15710.0\n        ],\n        \"semantic_type\": \"\",\n        \"description\": \"\"\n      }\n    },\n    {\n      \"column\": \"CompetitionOpenSinceMonth\",\n      \"properties\": {\n        \"dtype\": \"number\",\n        \"std\": 112071.86407657331,\n        \"min\": -1.0,\n        \"max\": 336223.0,\n        \"num_unique_values\": 7,\n        \"samples\": [\n          336223.0,\n          4.605895491980025,\n          11.0\n        ],\n        \"semantic_type\": \"\",\n        \"description\": \"\"\n      }\n    },\n    {\n      \"column\": \"CompetitionOpenSinceYear\",\n      \"properties\": {\n        \"dtype\": \"number\",\n        \"std\": 111561.20311870187,\n        \"min\": -1.0,\n        \"max\": 336223.0,\n        \"num_unique_values\": 8,\n        \"samples\": [\n          1369.3083191810197,\n          2013.0,\n          336223.0\n        ],\n        \"semantic_type\": \"\",\n        \"description\": \"\"\n      }\n    },\n    {\n      \"column\": \"Promo2SinceWeek\",\n      \"properties\": {\n        \"dtype\": \"number\",\n        \"std\": 112066.15389549734,\n        \"min\": -1.0,\n        \"max\": 336223.0,\n        \"num_unique_values\": 8,\n        \"samples\": [\n          10.810078430089554,\n          40.0,\n          336223.0\n        ],\n        \"semantic_type\": \"\",\n        \"description\": \"\"\n      }\n    },\n    {\n      \"column\": \"Promo2SinceYear\",\n      \"properties\": {\n        \"dtype\": \"number\",\n        \"std\": 111658.74855358008,\n        \"min\": -1.0,\n        \"max\": 336223.0,\n        \"num_unique_values\": 7,\n        \"samples\": [\n          336223.0,\n          988.9186641009093,\n          2014.0\n        ],\n        \"semantic_type\": \"\",\n        \"description\": \"\"\n      }\n    }\n  ]\n}"
            }
          },
          "metadata": {},
          "execution_count": 102
        }
      ]
    },
    {
      "cell_type": "code",
      "source": [
        "store_sales_nooutlier = store_sales[store_sales['Sales'] <= store_sales['Sales'].quantile(.99)]\n",
        "store_sales_nooutlier = store_sales_nooutlier[store_sales_nooutlier['Customers'] <= store_sales_nooutlier['Customers'].quantile(.99)]"
      ],
      "metadata": {
        "id": "9MFSBRdjTtCU"
      },
      "execution_count": 107,
      "outputs": []
    },
    {
      "cell_type": "code",
      "source": [
        "#Sales_Customers\n",
        "from pandas.plotting import scatter_matrix\n",
        "attributes = [\"Sales\", \"Customers\"]\n",
        "scatter_matrix(store_sales_nooutlier[attributes]);"
      ],
      "metadata": {
        "colab": {
          "base_uri": "https://localhost:8080/",
          "height": 470
        },
        "id": "z8_OPVKQtsrG",
        "outputId": "7b318f93-462a-4125-ad0a-a356ba441a91"
      },
      "execution_count": 108,
      "outputs": [
        {
          "output_type": "display_data",
          "data": {
            "text/plain": [
              "<Figure size 640x480 with 4 Axes>"
            ],
            "image/png": "[encoded data removed]"
          },
          "metadata": {}
        }
      ]
    },
    {
      "cell_type": "markdown",
      "source": [
        "Findings\n",
        "Higher number of customer leads to higher sales"
      ],
      "metadata": {
        "id": "m4WollRfKvsi"
      }
    },
    {
      "cell_type": "code",
      "source": [
        "import pandas as pd\n",
        "import matplotlib.pyplot as plt\n",
        "\n",
        "# Assuming grouped_data is a DataFrame\n",
        "grouped_data = store_sales_nooutlier.groupby(['Store', 'Promo'])['Sales'].sum().unstack()\n",
        "\n",
        "# Filter stores\n",
        "selected_stores = [1, 3, 8, 9, 13, 25, 29, 31, 46]\n",
        "grouped_data = grouped_data[grouped_data.index.isin(selected_stores)]\n",
        "\n",
        "# Calculate percentage based on the filtered grouped_data and round to 0 decimal places\n",
        "percentage_data = (grouped_data.div(grouped_data.sum(axis=1), axis=0) * 100).round(0)\n",
        "\n",
        "# Plot the stacked bar chart\n",
        "ax = percentage_data.plot(kind='bar', stacked=True, figsize=(10, 6))\n",
        "\n",
        "# Display percentage labels on each bar\n",
        "for container in ax.containers:\n",
        "    ax.bar_label(container, label_type='edge', fontsize=8, color='white', weight='bold', padding=3)\n",
        "\n",
        "# Set labels and title\n",
        "plt.xlabel('Store and Promo')\n",
        "plt.ylabel('Sales Percentage')\n",
        "plt.title('Stacked Bar Chart of Sales Percentage by Store and Promo (Selected Stores)')\n",
        "\n",
        "# Show the plot\n",
        "plt.show()\n"
      ],
      "metadata": {
        "colab": {
          "base_uri": "https://localhost:8080/",
          "height": 568
        },
        "id": "j75Tzk8tK4Xs",
        "outputId": "23133ed6-ff08-4648-b7a7-bbc03bea0406"
      },
      "execution_count": 114,
      "outputs": [
        {
          "output_type": "display_data",
          "data": {
            "text/plain": [
              "<Figure size 1000x600 with 1 Axes>"
            ],
            "image/png": "[encoded data removed]"
          },
          "metadata": {}
        }
      ]
    },
    {
      "cell_type": "code",
      "source": [
        "def plot_store_trend(title, xaxis, yaxis, chart_type,order_list =None):\n",
        "\n",
        "  left  = 0.125  # the left side of the subplots of the figure\n",
        "  right = 0.9    # the right side of the subplots of the figure\n",
        "  bottom = 0.1   # the bottom of the subplots of the figure\n",
        "  top = 0.9      # the top of the subplots of the figure\n",
        "  wspace = 0.2   # the amount of width reserved for blank space between subplots\n",
        "  hspace = 0.8   # the amount of height reserved for white space between subplots\n",
        "\n",
        "  store_dfs = [data_store1, data_store3, data_store8, data_store9, data_store13, data_store25, data_store29, data_store31, data_store46 ]\n",
        "  label_dfs = ['store1', 'store3', 'store8', 'store9', 'store13', 'store25','store29', 'store31', 'store46']\n",
        "  index = [1,3,8,9,13,25,29,31,46]\n",
        "\n",
        "  # PROMO\n",
        "  fig, axis = plt.subplots(3, 3, sharex='col', sharey='row', figsize=(10,6))\n",
        "  fig.suptitle(title)\n",
        "  fig.subplots_adjust(left=left, bottom=bottom, right=right, top=top, wspace=wspace, hspace=hspace)\n",
        "\n",
        "  i = 0\n",
        "  for x in range (0,3):\n",
        "      for y in range (0,3):\n",
        "          #i = x + y + int(incr)\n",
        "          j = index[i]\n",
        "          label =  label_dfs[i]\n",
        "          d = store_dfs[i]\n",
        "          axis[x,y].title.set_text(label)\n",
        "          if chart_type == 'bar':\n",
        "            if order_list is None:\n",
        "              sns.barplot(x=xaxis, y=yaxis, data=d, ax=axis[x,y], palette=\"hls\")\n",
        "            else:\n",
        "              sns.barplot(x=xaxis, y=yaxis, data=d, ax=axis[x,y], order = order_list, palette=\"hls\")\n",
        "\n",
        "          if chart_type == 'line':\n",
        "              sns.lineplot(x=xaxis, y=yaxis, data=d, ax=axis[x,y], palette=\"hls\")\n",
        "          elif chart_type == 'box':\n",
        "              sns.boxplot(x=d[xaxis],whis=1.5, palette=\"hls\")\n",
        "          i = i + 1"
      ],
      "metadata": {
        "id": "KYsZfQ6yJQZP"
      },
      "execution_count": null,
      "outputs": []
    },
    {
      "cell_type": "code",
      "source": [
        "plot_store_trend('Customers vs Sales for the Key Stores', 'Customers', 'Sales', 'line')"
      ],
      "metadata": {
        "id": "0rYn-0XCMKVq"
      },
      "execution_count": null,
      "outputs": []
    },
    {
      "cell_type": "code",
      "source": [
        "plot_store_trend('DayOfWeek vs ALL Nine Stores Sales data', 'DayOfWeek', 'Sales', 'bar',[1,2,3,4,5,6,7])"
      ],
      "metadata": {
        "id": "He1AmHNLL3FV"
      },
      "execution_count": null,
      "outputs": []
    },
    {
      "cell_type": "code",
      "source": [
        "plot_store_trend('Promo vs Non Promo Sales for Key Stores', 'Promo', 'Sales', 'bar')"
      ],
      "metadata": {
        "id": "HaFifUeQLRpz"
      },
      "execution_count": null,
      "outputs": []
    },
    {
      "cell_type": "code",
      "source": [
        "plot_store_trend('Promo2 vs ALL Nine Stores Sales data', 'Promo2', 'Sales', 'bar')"
      ],
      "metadata": {
        "id": "K9UonwgGModj"
      },
      "execution_count": null,
      "outputs": []
    },
    {
      "cell_type": "code",
      "source": [
        "plot_store_trend('SchoolHoliday vs ALL Nine Stores Sales data', 'SchoolHoliday', 'Sales', 'bar')"
      ],
      "metadata": {
        "id": "IiwY9spbM0eu"
      },
      "execution_count": null,
      "outputs": []
    },
    {
      "cell_type": "code",
      "source": [
        "filtered_df.info()"
      ],
      "metadata": {
        "id": "SY_EqjHg2iz7"
      },
      "execution_count": null,
      "outputs": []
    },
    {
      "cell_type": "code",
      "source": [
        "filtered_df.StateHoliday = filtered_df.StateHoliday.replace(0,'N/A')"
      ],
      "metadata": {
        "id": "jl2wyiQU5GNJ"
      },
      "execution_count": null,
      "outputs": []
    },
    {
      "cell_type": "code",
      "source": [
        "#filtered_df = filtered_df.reset_index()\n"
      ],
      "metadata": {
        "id": "xrEvmYyF3y4Q"
      },
      "execution_count": null,
      "outputs": []
    },
    {
      "cell_type": "code",
      "source": [
        "# box-plot creation for variious variables w.r.t sales\n",
        "plt.figure(figsize=(20,20))\n",
        "plt.subplot(4,4,1)\n",
        "sns.boxplot(x = filtered_df.DayOfWeek, y = filtered_df.Sales)\n",
        "\n",
        "plt.subplot(4,4,2)\n",
        "sns.boxplot(x = filtered_df.Promo2, y = filtered_df.Sales)\n",
        "\n",
        "plt.subplot(4,4,4)\n",
        "sns.boxplot(x = filtered_df.Promo, y = filtered_df.Sales)\n",
        "\n",
        "plt.subplot(4,4,5)\n",
        "sns.boxplot(x = filtered_df.StateHoliday, y = filtered_df.Sales)\n",
        "\n",
        "plt.subplot(4,4,6)\n",
        "sns.boxplot(x = filtered_df.SchoolHoliday, y = filtered_df.Sales)\n",
        "\n",
        "plt.subplot(4,4,7)\n",
        "sns.boxplot(x = filtered_df.StoreType, y = filtered_df.Sales)\n",
        "\n",
        "plt.subplot(4,4,8)\n",
        "sns.boxplot(x = filtered_df.Assortment, y = filtered_df.Sales)\n",
        "\n",
        "plt.subplot(4,4,9)\n",
        "sns.boxplot(x = filtered_df.CompetitionOpenSinceMonth, y = filtered_df.Sales)\n",
        "\n",
        "plt.subplot(4,4,10)\n",
        "sns.boxplot(x = filtered_df.Promo2SinceWeek, y = filtered_df.Sales)\n",
        "plt.xticks(rotation=90)\n",
        "\n",
        "plt.subplot(4,4,11)\n",
        "sns.boxplot(x = filtered_df.Promo2SinceYear, y = filtered_df.Sales)\n",
        "\n",
        "plt.subplot(4,4,12)\n",
        "sns.boxplot(x = filtered_df.PromoInterval, y = filtered_df.Sales)\n",
        "plt.xticks(rotation=90)\n",
        "\n",
        "plt.subplot(4,4,13)\n",
        "sns.boxplot(x = filtered_df.CompetitionOpenSinceYear, y = filtered_df.Sales)\n",
        "\n",
        "plt.xticks(rotation=90)\n",
        "plt.show()"
      ],
      "metadata": {
        "id": "rqhjqiMqNi9Q"
      },
      "execution_count": null,
      "outputs": []
    },
    {
      "cell_type": "code",
      "source": [
        "# trend/seasonality search\n",
        "filtered_df.groupby(['CompetitionOpenSinceMonth'])['Sales'].mean().plot.barh(figsize=(10,7), color='orange')\n",
        "plt.show()"
      ],
      "metadata": {
        "id": "UCN0B9Jb1XZ4"
      },
      "execution_count": null,
      "outputs": []
    },
    {
      "cell_type": "code",
      "source": [
        "sns.distplot(filtered_df['CompetitionOpenSinceYear'])"
      ],
      "metadata": {
        "id": "E9NFH2q5-aF4"
      },
      "execution_count": null,
      "outputs": []
    },
    {
      "cell_type": "code",
      "source": [
        "sns.distplot(filtered_df['CompetitionOpenSinceMonth'])"
      ],
      "metadata": {
        "id": "jb-HlR52-er3"
      },
      "execution_count": null,
      "outputs": []
    },
    {
      "cell_type": "code",
      "source": [
        "#Plotting distribution of Competition Distance.\n",
        "sns.distplot(filtered_df['CompetitionDistance'])\n",
        "plt.xlabel('Competition Distance in meters',fontsize=11.5)"
      ],
      "metadata": {
        "id": "dcAbcZC0-k5O"
      },
      "execution_count": null,
      "outputs": []
    },
    {
      "cell_type": "code",
      "source": [
        "filtered_df.groupby('StoreType')['Sales'].describe()"
      ],
      "metadata": {
        "id": "glAltI9Q-szu"
      },
      "execution_count": null,
      "outputs": []
    },
    {
      "cell_type": "code",
      "source": [
        "avg_sales__avg_customers = filtered_df.groupby('Store').mean()[['Sales', 'Customers']]\n",
        "sns.scatterplot('Customers', 'Sales', data=avg_sales__avg_customers)\n",
        "plt.show()"
      ],
      "metadata": {
        "id": "xtwfT5je-w_t"
      },
      "execution_count": null,
      "outputs": []
    },
    {
      "cell_type": "code",
      "source": [
        "display(Markdown(f\"Pearson cofficient is `{'%.2f' % filtered_df[['Sales', 'Customers']].corr().iloc[0,1]}`\"))"
      ],
      "metadata": {
        "id": "--AFvUOI-45k"
      },
      "execution_count": null,
      "outputs": []
    },
    {
      "cell_type": "code",
      "source": [],
      "metadata": {
        "id": "REjMfurStQ6O"
      },
      "execution_count": null,
      "outputs": []
    }
  ]
}